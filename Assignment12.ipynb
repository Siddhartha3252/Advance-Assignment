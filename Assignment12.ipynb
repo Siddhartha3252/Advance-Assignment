{
 "cells": [
  {
   "cell_type": "code",
   "execution_count": null,
   "id": "3d8f4716",
   "metadata": {},
   "outputs": [],
   "source": [
    "Q1. Does assigning a value to a string's indexed character violate Python's string immutability?"
   ]
  },
  {
   "cell_type": "code",
   "execution_count": null,
   "id": "68d52557",
   "metadata": {},
   "outputs": [],
   "source": [
    "#Answer :\n",
    "\n",
    "String’s indexed character cannot to be assigned a New value , as Strings are immutable.\n",
    "Example:\n",
    "name = \"Reinforcement\"\n",
    "print(id(name)) #73472\n",
    "name[0] = \"V\" # Raises TypeError"
   ]
  },
  {
   "cell_type": "code",
   "execution_count": null,
   "id": "cb72df5a",
   "metadata": {},
   "outputs": [],
   "source": [
    "Q2. Does using the += operator to concatenate strings violate Python's string immutability? Why or\n",
    "why not?"
   ]
  },
  {
   "cell_type": "code",
   "execution_count": null,
   "id": "238c625f",
   "metadata": {},
   "outputs": [],
   "source": [
    "#Answer :\n",
    "\n",
    "+= operator is used to concatenate strings, it does not violate Python’s string immutability Property. Because doing so new creates a new association with data and variable. E.g. str_1=\"a\" and str_1+=\"b. effect of this statements to create string ab and reassign it to variable str_1, any string data is not actually modified."
   ]
  },
  {
   "cell_type": "code",
   "execution_count": 2,
   "id": "92803131",
   "metadata": {},
   "outputs": [
    {
     "name": "stdout",
     "output_type": "stream",
     "text": [
      "2852740124848\n",
      "2852812870704\n"
     ]
    }
   ],
   "source": [
    "str_1 = 'a'\n",
    "print(id(str_1))\n",
    "str_1 += 'b'\n",
    "print(id(str_1))"
   ]
  },
  {
   "cell_type": "code",
   "execution_count": null,
   "id": "68b8edf0",
   "metadata": {},
   "outputs": [],
   "source": [
    "Q3. In Python, how many different ways are there to index a character?"
   ]
  },
  {
   "cell_type": "code",
   "execution_count": null,
   "id": "5af827fd",
   "metadata": {},
   "outputs": [],
   "source": [
    "#Answer :\n",
    "\n",
    "A Character in string can be indexed using string name followed by index number of character in square bracket. Positive Indexing i.e. first index is 0 an so on, or Negative Indexing i.e. last letter is -1 and so on can be used to index a character"
   ]
  },
  {
   "cell_type": "code",
   "execution_count": null,
   "id": "5bed4e00",
   "metadata": {},
   "outputs": [],
   "source": [
    "Q4. What is the relationship between indexing and slicing?"
   ]
  },
  {
   "cell_type": "code",
   "execution_count": null,
   "id": "7e5ac95a",
   "metadata": {},
   "outputs": [],
   "source": [
    "#Answer :\n",
    "\n",
    "We can access elements of sequence datatypes by using slicing and indexing. Indexing is used to obtaining individual element while slicing for sequence of elements."
   ]
  },
  {
   "cell_type": "code",
   "execution_count": null,
   "id": "bceb5da7",
   "metadata": {},
   "outputs": [],
   "source": [
    "Q5. What is an indexed character's exact data type? What is the data form of a slicing-generated\n",
    "substring?"
   ]
  },
  {
   "cell_type": "code",
   "execution_count": null,
   "id": "087da5ee",
   "metadata": {},
   "outputs": [],
   "source": [
    "#Answer :\n",
    "\n",
    "Indexed characters and sliced substrings have datatype String. "
   ]
  },
  {
   "cell_type": "code",
   "execution_count": null,
   "id": "977d0a09",
   "metadata": {},
   "outputs": [],
   "source": [
    "Q6. What is the relationship between string and character \"types\" in Python?"
   ]
  },
  {
   "cell_type": "code",
   "execution_count": null,
   "id": "f5732ba2",
   "metadata": {},
   "outputs": [],
   "source": [
    "#Answer :\n",
    "\n",
    "Object that contains sequence of character datatypes are called String. "
   ]
  },
  {
   "cell_type": "code",
   "execution_count": null,
   "id": "67caaf06",
   "metadata": {},
   "outputs": [],
   "source": [
    "Q7. Identify at least two operators and one method that allow you to combine one or more smaller\n",
    "strings to create a larger string."
   ]
  },
  {
   "cell_type": "code",
   "execution_count": null,
   "id": "0217eece",
   "metadata": {},
   "outputs": [],
   "source": [
    "#Answer :\n",
    "\n",
    "+, += and * allow to combine one or more smaller strings to create a larger string. <string>.join(<sep>) method joins element of iterable type like list and tuple to get a combined string. "
   ]
  },
  {
   "cell_type": "code",
   "execution_count": null,
   "id": "ca283290",
   "metadata": {},
   "outputs": [],
   "source": [
    "Q8. What is the benefit of first checking the target string with in or not in before using the index\n",
    "method to find a substring?"
   ]
  },
  {
   "cell_type": "code",
   "execution_count": null,
   "id": "7f4fa10f",
   "metadata": {},
   "outputs": [],
   "source": [
    "#Answer :\n",
    "\n",
    "Checking the target string with in or not Operators before using the index method to find a substring just helps confirming availability of substring and thus avoid raising of ValueError.\n",
    "Example:\n",
    "in_string = \"ineuron\"\n",
    "in_string.index('x') # Raises ValueError\n",
    "in_string.index('u') # 3 "
   ]
  },
  {
   "cell_type": "code",
   "execution_count": null,
   "id": "8d2df5af",
   "metadata": {},
   "outputs": [],
   "source": [
    "Q9. Which operators and built-in string methods produce simple Boolean (true/false) results?"
   ]
  },
  {
   "cell_type": "code",
   "execution_count": null,
   "id": "02d3c57c",
   "metadata": {},
   "outputs": [],
   "source": [
    "#Answer :\n",
    "\n",
    "The String Operators and built-in methods to Produce Simple Boolean (True/False) Results are:\n",
    "\n",
    "in\n",
    "not\n",
    "<string>.isalpha()\n",
    "<string>.isalnum()\n",
    "<string>.isdecimal()\n",
    "<string>.isdigit()\n",
    "<string>.islower()\n",
    "<string>.isnumeric()\n",
    "<string>.isprintable()\n",
    "<string>.isspace()\n",
    "<string>.istitle() "
   ]
  }
 ],
 "metadata": {
  "kernelspec": {
   "display_name": "Python 3",
   "language": "python",
   "name": "python3"
  },
  "language_info": {
   "codemirror_mode": {
    "name": "ipython",
    "version": 3
   },
   "file_extension": ".py",
   "mimetype": "text/x-python",
   "name": "python",
   "nbconvert_exporter": "python",
   "pygments_lexer": "ipython3",
   "version": "3.8.8"
  }
 },
 "nbformat": 4,
 "nbformat_minor": 5
}
