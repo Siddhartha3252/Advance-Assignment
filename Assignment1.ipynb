{
 "cells": [
  {
   "cell_type": "code",
   "execution_count": null,
   "id": "87137636",
   "metadata": {},
   "outputs": [],
   "source": [
    "Q1. What is the purpose of Python's OOP?"
   ]
  },
  {
   "cell_type": "code",
   "execution_count": null,
   "id": "6b4e484b",
   "metadata": {},
   "outputs": [],
   "source": [
    "#Answer :\n",
    "\n",
    "OOP is about code reuse — you factor code to minimize redundancy and program by customizing what already exists instead of changing code in place or starting from scratch. "
   ]
  },
  {
   "cell_type": "code",
   "execution_count": null,
   "id": "6af9edec",
   "metadata": {},
   "outputs": [],
   "source": [
    "Q2. Where does an inheritance search look for an attribute?"
   ]
  },
  {
   "cell_type": "code",
   "execution_count": null,
   "id": "1a92c741",
   "metadata": {},
   "outputs": [],
   "source": [
    "#Answer :\n",
    "\n",
    "An inheritance search looks for an attribute first in the instance object, then in the class the instance was created from, then in all higher superclasses, progressing from left to right (by default). The search stops at the first place the attribute is found."
   ]
  },
  {
   "cell_type": "code",
   "execution_count": null,
   "id": "9dbd4016",
   "metadata": {},
   "outputs": [],
   "source": [
    "Q3. How do you distinguish between a class object and an instance object?"
   ]
  },
  {
   "cell_type": "code",
   "execution_count": null,
   "id": "6da64bcc",
   "metadata": {},
   "outputs": [],
   "source": [
    "#Answer :\n",
    "\n",
    "Classes are a kind of factory for creating multiple instances. Classes also support operator overloading methods, which instances inherit, and treat any functions nested in the class as methods for processing instances. "
   ]
  },
  {
   "cell_type": "code",
   "execution_count": null,
   "id": "3e79acef",
   "metadata": {},
   "outputs": [],
   "source": [
    "Q4. What makes the first argument in a class’s method function special?"
   ]
  },
  {
   "cell_type": "code",
   "execution_count": null,
   "id": "cfaeee1a",
   "metadata": {},
   "outputs": [],
   "source": [
    "#Answer :\n",
    "\n",
    "It always receives the instance object that is the implied subject of the method call. It’s usually called 'self' by convention. "
   ]
  },
  {
   "cell_type": "code",
   "execution_count": null,
   "id": "823a9165",
   "metadata": {},
   "outputs": [],
   "source": [
    "Q5. What is the purpose of the __init__ method?"
   ]
  },
  {
   "cell_type": "code",
   "execution_count": null,
   "id": "4200da11",
   "metadata": {},
   "outputs": [],
   "source": [
    "#Answer :\n",
    "\n",
    "If the __init__ method is coded or inherited in a class, Python calls it automatically each time an instance of that class is created.\n",
    "class New():\n",
    "def __init__(self, arg1, arg2):\n",
    "self.first_var = arg1\n",
    "self.second_var = arg2 "
   ]
  },
  {
   "cell_type": "code",
   "execution_count": null,
   "id": "41d33f59",
   "metadata": {},
   "outputs": [],
   "source": [
    "Q6. What is the process for creating a class instance?"
   ]
  },
  {
   "cell_type": "code",
   "execution_count": null,
   "id": "8b35ae48",
   "metadata": {},
   "outputs": [],
   "source": [
    "#Answer :\n",
    "\n",
    "x = ClassName()\n",
    "y = AnotherClass(arg1, arg2) "
   ]
  },
  {
   "cell_type": "code",
   "execution_count": null,
   "id": "86efb503",
   "metadata": {},
   "outputs": [],
   "source": [
    "Q7. What is the process for creating a class?"
   ]
  },
  {
   "cell_type": "code",
   "execution_count": null,
   "id": "bb504e04",
   "metadata": {},
   "outputs": [],
   "source": [
    "#Answer :\n",
    "\n",
    "class ClassName(): "
   ]
  },
  {
   "cell_type": "code",
   "execution_count": null,
   "id": "5c3ed999",
   "metadata": {},
   "outputs": [],
   "source": [
    "Q8. How would you define the superclasses of a class?"
   ]
  },
  {
   "cell_type": "code",
   "execution_count": null,
   "id": "e55992c6",
   "metadata": {},
   "outputs": [],
   "source": [
    "#Answer :\n",
    "\n",
    "The classes which are used to inherit from.\n",
    "\n",
    "class Son(Father, Mother): ...\n",
    "\n",
    "In this case Father and Mother are superclasses for Son subclass. "
   ]
  }
 ],
 "metadata": {
  "kernelspec": {
   "display_name": "Python 3",
   "language": "python",
   "name": "python3"
  },
  "language_info": {
   "codemirror_mode": {
    "name": "ipython",
    "version": 3
   },
   "file_extension": ".py",
   "mimetype": "text/x-python",
   "name": "python",
   "nbconvert_exporter": "python",
   "pygments_lexer": "ipython3",
   "version": "3.8.8"
  }
 },
 "nbformat": 4,
 "nbformat_minor": 5
}
