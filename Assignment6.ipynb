{
 "cells": [
  {
   "cell_type": "code",
   "execution_count": null,
   "id": "3d8f4716",
   "metadata": {},
   "outputs": [],
   "source": [
    "Q1. Describe three applications for exception processing."
   ]
  },
  {
   "cell_type": "code",
   "execution_count": null,
   "id": "7353f817",
   "metadata": {},
   "outputs": [],
   "source": [
    "#Answer :\n",
    "\n",
    "Exception Processing is important to find exceptions that causes the runtime error. As runtime errors Halt the program execution when exception occurs.\n",
    "\n",
    "Exception Processing is used in Various Applications of which few examples are:\n",
    "\n",
    "->Checking Appropriate use of input in an application\n",
    "->Checking for Arithmetic exceptions in mathematical executions\n",
    "->Chcking File I/O exceptions during File handling "
   ]
  },
  {
   "cell_type": "code",
   "execution_count": null,
   "id": "cb72df5a",
   "metadata": {},
   "outputs": [],
   "source": [
    "Q2. What happens if you don't do something extra to treat an exception?"
   ]
  },
  {
   "cell_type": "code",
   "execution_count": null,
   "id": "fc91db92",
   "metadata": {},
   "outputs": [],
   "source": [
    "#Answer :\n",
    "\n",
    "If Exceptions are not handled flow of program will be broken during the run time which might lead to a abnormal termination of the program. Inshort inability of program to handle exceptions will result in crashing of program. "
   ]
  },
  {
   "cell_type": "code",
   "execution_count": null,
   "id": "68b8edf0",
   "metadata": {},
   "outputs": [],
   "source": [
    "Q3. What are your options for recovering from an exception in your script?"
   ]
  },
  {
   "cell_type": "code",
   "execution_count": null,
   "id": "d60143db",
   "metadata": {},
   "outputs": [],
   "source": [
    "#Answer :\n",
    "\n",
    " Python provides try and except statements for recovering from an exception in your script. "
   ]
  },
  {
   "cell_type": "code",
   "execution_count": null,
   "id": "bb0e420f",
   "metadata": {},
   "outputs": [],
   "source": [
    "Q4. Describe two methods for triggering exceptions in your script."
   ]
  },
  {
   "cell_type": "code",
   "execution_count": null,
   "id": "d00a43d0",
   "metadata": {},
   "outputs": [],
   "source": [
    "#Answer :\n",
    "\n",
    "raise and assert are two methods that can be used to trigger manual exceptions in your script.\n",
    "\n",
    "->raise method triggers an exception if condition provided to it turns out to be True.\n",
    "->assert will let the program to continue execution if condition provided to it turns out to be True else exception will be raised "
   ]
  },
  {
   "cell_type": "code",
   "execution_count": null,
   "id": "fbe29031",
   "metadata": {},
   "outputs": [],
   "source": [
    "Q5. Identify two methods for specifying actions to be executed at termination time, regardless of\n",
    "whether or not an exception exists."
   ]
  },
  {
   "cell_type": "code",
   "execution_count": null,
   "id": "2d1e15ea",
   "metadata": {},
   "outputs": [],
   "source": [
    "#Answer :\n",
    "\n",
    "Python Provides else and finally blocks for specifying actions to be executed at termination time, regardless of whether an exceptions exists or not. "
   ]
  }
 ],
 "metadata": {
  "kernelspec": {
   "display_name": "Python 3",
   "language": "python",
   "name": "python3"
  },
  "language_info": {
   "codemirror_mode": {
    "name": "ipython",
    "version": 3
   },
   "file_extension": ".py",
   "mimetype": "text/x-python",
   "name": "python",
   "nbconvert_exporter": "python",
   "pygments_lexer": "ipython3",
   "version": "3.8.8"
  }
 },
 "nbformat": 4,
 "nbformat_minor": 5
}
